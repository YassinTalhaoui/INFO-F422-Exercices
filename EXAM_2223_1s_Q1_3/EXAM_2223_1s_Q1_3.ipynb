{
  "nbformat": 4,
  "nbformat_minor": 0,
  "metadata": {
    "colab": {
      "provenance": []
    },
    "kernelspec": {
      "name": "ir",
      "display_name": "R"
    },
    "language_info": {
      "name": "R"
    }
  },
  "cells": [
    {
      "cell_type": "code",
      "execution_count": 5,
      "metadata": {
        "colab": {
          "base_uri": "https://localhost:8080/"
        },
        "id": "oznhIqQm0a7t",
        "outputId": "a2633ab4-71cc-4bbc-c044-2c4e428572c2"
      },
      "outputs": [
        {
          "output_type": "stream",
          "name": "stdout",
          "text": [
            "\n",
            " group= 1 \n",
            "P(x1=1)= 0.4 \n",
            "P(x2=0)= 0.52 \n",
            "P(x4=0)= 0.4816 \n",
            "P(x1=1|x2=1)= 0.5 \n",
            "Are x1 and x2 independent? no \n",
            " px1x2[1,1]= 0.24 px1[1]*px2[1]= 0.192 \n",
            "px1x2[2,1]= 0.24 px1[2]*px2[1]= 0.288 \n",
            "px1x2[1,2]= 0.16 px1[1]*px2[2]= 0.208 \n",
            "px1x2[2,2]= 0.36 px1[2]*px2[2]= 0.312 \n",
            "P(x4=0| x1=1, x2=0, x3=0)= 0.6 \n",
            "P(x4=0| x1=0, x2=0, x3=0)= 0.6 \n",
            "P(x4=0|  x3=0)= 0.6 \n",
            "P(x3=0| x1=1, x4=0)= 0.4576271 \n",
            "P(x2=0| x1=1, x4=0)= 0.440678 \n",
            "P(x1=0| x2=0, x3=0)= 0.6923077 \n",
            "Are x4 and x1 independent? non \n",
            " px1x4[1,1]= 0.2112 px1[1]*px4[1]= 0.20736 \n",
            "px1x4[2,1]= 0.3072 px1[2]*px4[1]= 0.31104 \n",
            "px1x4[1,2]= 0.1888 px1[1]*px4[2]= 0.19264 \n",
            "px1x4[2,2]= 0.2928 px1[2]*px4[2]= 0.28896 \n",
            "Are x1 and x4 independent | x3=0? yes \n",
            " px1x3[1,1]= 0.1411765 px1[1]*px3[1]= 0.1411765 \n",
            "px1x4[1,2]= 0.2117647 px1[1]*px4[1]= 0.2117647 \n",
            "px1x4[2,1]= 0.2588235 px1[1]*px4[1]= 0.2588235 \n",
            "px1x4[2,2]= 0.3882353 px1[1]*px4[1]= 0.3882353 \n",
            "\n",
            " group= 2 \n",
            "P(x1=1)= 0.6 \n",
            "P(x2=0)= 0.48 \n",
            "P(x4=0)= 0.4992 \n",
            "P(x1=1|x2=1)= 0.6923077 \n",
            "Are x1 and x2 independent? no \n",
            " px1x2[1,1]= 0.36 px1[1]*px2[1]= 0.312 \n",
            "px1x2[2,1]= 0.16 px1[2]*px2[1]= 0.208 \n",
            "px1x2[1,2]= 0.24 px1[1]*px2[2]= 0.288 \n",
            "px1x2[2,2]= 0.24 px1[2]*px2[2]= 0.192 \n",
            "P(x4=0| x1=1, x2=0, x3=0)= 0.6 \n",
            "P(x4=0| x1=0, x2=0, x3=0)= 0.6 \n",
            "P(x4=0|  x3=0)= 0.6 \n",
            "P(x3=0| x1=1, x4=0)= 0.5806452 \n",
            "P(x2=0| x1=1, x4=0)= 0.4193548 \n",
            "P(x1=0| x2=0, x3=0)= 0.5 \n",
            "Are x4 and x1 independent? non \n",
            " px1x4[1,1]= 0.3024 px1[1]*px4[1]= 0.30048 \n",
            "px1x4[2,1]= 0.1984 px1[2]*px4[1]= 0.20032 \n",
            "px1x4[1,2]= 0.2976 px1[1]*px4[2]= 0.29952 \n",
            "px1x4[2,2]= 0.2016 px1[2]*px4[2]= 0.19968 \n",
            "Are x1 and x4 independent | x3=0? yes \n",
            " px1x3[1,1]= 0.2322581 px1[1]*px3[1]= 0.2322581 \n",
            "px1x4[1,2]= 0.3483871 px1[1]*px4[1]= 0.3483871 \n",
            "px1x4[2,1]= 0.1677419 px1[1]*px4[1]= 0.1677419 \n",
            "px1x4[2,2]= 0.2516129 px1[1]*px4[1]= 0.2516129 \n",
            "\n",
            " group= 3 \n",
            "P(x1=1)= 0.5 \n",
            "P(x2=0)= 0.4 \n",
            "P(x4=0)= 0.496 \n",
            "P(x1=1|x2=1)= 0.6666667 \n",
            "Are x1 and x2 independent? no \n",
            " px1x2[1,1]= 0.4 px1[1]*px2[1]= 0.3 \n",
            "px1x2[2,1]= 0.2 px1[2]*px2[1]= 0.3 \n",
            "px1x2[1,2]= 0.1 px1[1]*px2[2]= 0.2 \n",
            "px1x2[2,2]= 0.3 px1[2]*px2[2]= 0.2 \n",
            "P(x4=0| x1=1, x2=0, x3=0)= 0.6 \n",
            "P(x4=0| x1=0, x2=0, x3=0)= 0.6 \n",
            "P(x4=0|  x3=0)= 0.6 \n",
            "P(x3=0| x1=1, x4=0)= 0.5409836 \n",
            "P(x2=0| x1=1, x4=0)= 0.2131148 \n",
            "P(x1=0| x2=0, x3=0)= 0.75 \n",
            "Are x4 and x1 independent? non \n",
            " px1x4[1,1]= 0.256 px1[1]*px4[1]= 0.252 \n",
            "px1x4[2,1]= 0.248 px1[2]*px4[1]= 0.252 \n",
            "px1x4[1,2]= 0.244 px1[1]*px4[2]= 0.248 \n",
            "px1x4[2,2]= 0.252 px1[2]*px4[2]= 0.248 \n",
            "Are x1 and x4 independent | x3=0? yes \n",
            " px1x3[1,1]= 0.1833333 px1[1]*px3[1]= 0.1833333 \n",
            "px1x4[1,2]= 0.275 px1[1]*px4[1]= 0.275 \n",
            "px1x4[2,1]= 0.2166667 px1[1]*px4[1]= 0.2166667 \n",
            "px1x4[2,2]= 0.325 px1[1]*px4[1]= 0.325 \n"
          ]
        }
      ],
      "source": [
        "rm(list=ls())\n",
        "\n",
        "load(\"/EXAM_2122_2s.Rdata\")\n",
        "\n",
        "## x1->x2 -> x3 ->x4\n",
        "\n",
        "for (group in 1:3){\n",
        "\n",
        "\n",
        "\n",
        "if (group==2)\n",
        "\n",
        "   ptable=Q1.G1.D\n",
        "\n",
        "\n",
        "\n",
        "if (group==1)\n",
        "\n",
        "   ptable=Q1.G2.D\n",
        "\n",
        "\n",
        "\n",
        "if (group==3)\n",
        "\n",
        "   ptable=Q1.G3.D\n",
        "\n",
        "\n",
        "cat(\"\\n group=\",group,\"\\n\")\n",
        "\n",
        "\n",
        "\n",
        "# P(x1=1)\n",
        "\n",
        "In=which(ptable$x1==\"1\" )\n",
        "\n",
        "cat(\"P(x1=1)=\",sum(ptable[In,\"prob\"]),\"\\n\")\n",
        "\n",
        "\n",
        "\n",
        "# P(x2=0)\n",
        "\n",
        "In=which(ptable$x2==\"0\" )\n",
        "\n",
        "cat(\"P(x2=0)=\",sum(ptable[In,\"prob\"]),\"\\n\")\n",
        "\n",
        "\n",
        "\n",
        "# P(x4=0)\n",
        "\n",
        "In=which(ptable$x4==\"0\" )\n",
        "\n",
        "cat(\"P(x4=0)=\",sum(ptable[In,\"prob\"]),\"\\n\")\n",
        "\n",
        "\n",
        "\n",
        "\n",
        "\n",
        "# P(x1=1| x2=1)\n",
        "\n",
        "Id=which(ptable$x2==\"1\")\n",
        "\n",
        "In=which(ptable$x1==\"1\"  & ptable$x2==\"1\")\n",
        "\n",
        "cat(\"P(x1=1|x2=1)=\",sum(ptable[In,\"prob\"])/sum(ptable[Id,\"prob\"]),\"\\n\")\n",
        "\n",
        "\n",
        "\n",
        "\n",
        "\n",
        "\n",
        "\n",
        "## x1 and x2 independent?\n",
        "\n",
        "px1=c(sum(ptable[which(ptable$x1==\"1\"),\"prob\"]),\n",
        "\n",
        "      sum(ptable[which(ptable$x1==\"0\"),\"prob\"]))\n",
        "\n",
        "px2=c(sum(ptable[which(ptable$x2==\"1\"),\"prob\"]),\n",
        "\n",
        "      sum(ptable[which(ptable$x2==\"0\"),\"prob\"]))\n",
        "\n",
        "\n",
        "\n",
        "px1x2=rbind(c(sum(ptable[which(ptable$x1==\"1\" & ptable$x2==\"1\"),\"prob\"]),\n",
        "\n",
        "              sum(ptable[which(ptable$x1==\"1\" & ptable$x2==\"0\"),\"prob\"])),\n",
        "\n",
        "            c(sum(ptable[which(ptable$x1==\"0\" & ptable$x2==\"1\"),\"prob\"]),\n",
        "\n",
        "              sum(ptable[which(ptable$x1==\"0\" & ptable$x2==\"0\"),\"prob\"])))\n",
        "\n",
        "\n",
        "\n",
        "cat(\"Are x1 and x2 independent? no \\n\",\n",
        "\n",
        "    \"px1x2[1,1]=\",px1x2[1,1], \"px1[1]*px2[1]=\",px1[1]*px2[1],\"\\n\")\n",
        "\n",
        "cat(\"px1x2[2,1]=\",px1x2[2,1], \"px1[2]*px2[1]=\",px1[2]*px2[1],\"\\n\")\n",
        "\n",
        "cat(\"px1x2[1,2]=\",px1x2[1,2], \"px1[1]*px2[2]=\",px1[1]*px2[2],\"\\n\")\n",
        "\n",
        "cat(\"px1x2[2,2]=\",px1x2[2,2], \"px1[2]*px2[2]=\",px1[2]*px2[2],\"\\n\")\n",
        "\n",
        "\n",
        "\n",
        "# P(x4=0| x1=1, x2=0, x3=0)\n",
        "\n",
        "Id=which(ptable$x1==\"1\"  & ptable$x2==\"0\" & ptable$x3==\"0\")\n",
        "\n",
        "In=which(ptable$x1==\"1\" &  ptable$x2==\"0\" & ptable$x3==\"0\" & ptable$x4==\"0\")\n",
        "\n",
        "\n",
        "\n",
        "cat(\"P(x4=0| x1=1, x2=0, x3=0)=\",\n",
        "\n",
        "    sum(ptable[In,\"prob\"])/sum(ptable[Id,\"prob\"]),\"\\n\")\n",
        "\n",
        "#print(Q1.G1.A1)\n",
        "\n",
        "\n",
        "\n",
        "# P(x4=0| x1=0, x2=0, x3=0)\n",
        "\n",
        "Id=which(ptable$x1==\"0\"  & ptable$x2==\"0\" & ptable$x3==\"0\")\n",
        "\n",
        "In=which(ptable$x1==\"0\" &  ptable$x2==\"0\" & ptable$x3==\"0\" & ptable$x4==\"0\")\n",
        "\n",
        "cat(\"P(x4=0| x1=0, x2=0, x3=0)=\",\n",
        "\n",
        "    sum(ptable[In,\"prob\"])/sum(ptable[Id,\"prob\"]),\"\\n\")\n",
        "\n",
        "\n",
        "\n",
        "# P(x4=0|  x3=0)\n",
        "\n",
        "Id=which( ptable$x3==\"0\")\n",
        "\n",
        "In=which(ptable$x3==\"0\" & ptable$x4==\"0\")\n",
        "\n",
        "\n",
        "\n",
        "\n",
        "\n",
        "cat(\"P(x4=0|  x3=0)=\",\n",
        "\n",
        "    sum(ptable[In,\"prob\"])/sum(ptable[Id,\"prob\"]),\"\\n\")\n",
        "\n",
        "\n",
        "\n",
        "# P(x3=0| x1=1, x4=0)\n",
        "\n",
        "In=which(ptable$x1==\"1\"  & ptable$x4==\"0\" & ptable$x3==\"0\")\n",
        "\n",
        "Id=which(ptable$x1==\"1\" &  ptable$x4==\"0\" )\n",
        "\n",
        "\n",
        "\n",
        "cat(\"P(x3=0| x1=1, x4=0)=\",\n",
        "\n",
        "    sum(ptable[In,\"prob\"])/sum(ptable[Id,\"prob\"]),\"\\n\")\n",
        "\n",
        "#print(Q1.G1.A2)\n",
        "\n",
        "\n",
        "\n",
        "# P(x2=0| x1=1, x4=0)\n",
        "\n",
        "In=which(ptable$x1==\"1\"  & ptable$x4==\"0\" & ptable$x2==\"0\")\n",
        "\n",
        "Id=which(ptable$x1==\"1\" &  ptable$x4==\"0\" )\n",
        "\n",
        "\n",
        "\n",
        "cat(\"P(x2=0| x1=1, x4=0)=\",\n",
        "\n",
        "    sum(ptable[In,\"prob\"])/sum(ptable[Id,\"prob\"]),\"\\n\")\n",
        "\n",
        "#print(Q1.G1.A3)\n",
        "\n",
        "\n",
        "\n",
        "# P(x1=0| x2=0, x3=0)\n",
        "\n",
        "In=which(ptable$x1==\"0\"  & ptable$x2==\"0\" & ptable$x3==\"0\")\n",
        "\n",
        "Id=which(ptable$x2==\"0\" &  ptable$x3==\"0\" )\n",
        "\n",
        "\n",
        "\n",
        "cat(\"P(x1=0| x2=0, x3=0)=\",\n",
        "\n",
        "    sum(ptable[In,\"prob\"])/sum(ptable[Id,\"prob\"]),\"\\n\")\n",
        "\n",
        "#print(Q1.G1.A4)\n",
        "\n",
        "\n",
        "\n",
        "## x4 and x1 independent?\n",
        "\n",
        "px1=c(sum(ptable[which(ptable$x1==\"1\"),\"prob\"]),\n",
        "\n",
        "      sum(ptable[which(ptable$x1==\"0\"),\"prob\"]))\n",
        "\n",
        "px3=c(sum(ptable[which(ptable$x3==\"1\"),\"prob\"]),\n",
        "\n",
        "      sum(ptable[which(ptable$x3==\"0\"),\"prob\"]))\n",
        "\n",
        "px4=c(sum(ptable[which(ptable$x4==\"1\"),\"prob\"]),\n",
        "\n",
        "     sum(ptable[which(ptable$x4==\"0\"),\"prob\"]))\n",
        "\n",
        "\n",
        "\n",
        "px1x4=rbind(c(sum(ptable[which(ptable$x1==\"1\" & ptable$x4==\"1\"),\"prob\"]),\n",
        "\n",
        "             sum(ptable[which(ptable$x1==\"1\" & ptable$x4==\"0\"),\"prob\"])),\n",
        "\n",
        "           c(sum(ptable[which(ptable$x1==\"0\" & ptable$x4==\"1\"),\"prob\"]),\n",
        "\n",
        "             sum(ptable[which(ptable$x1==\"0\" & ptable$x4==\"0\"),\"prob\"])))\n",
        "\n",
        "\n",
        "\n",
        "cat(\"Are x4 and x1 independent? non \\n\",\n",
        "\n",
        "    \"px1x4[1,1]=\",px1x4[1,1], \"px1[1]*px4[1]=\",px1[1]*px4[1],\"\\n\")\n",
        "\n",
        "cat(\"px1x4[2,1]=\",px1x4[2,1], \"px1[2]*px4[1]=\",px1[2]*px4[1],\"\\n\")\n",
        "\n",
        "cat(\"px1x4[1,2]=\",px1x4[1,2], \"px1[1]*px4[2]=\",px1[1]*px4[2],\"\\n\")\n",
        "\n",
        "cat(\"px1x4[2,2]=\",px1x4[2,2], \"px1[2]*px4[2]=\",px1[2]*px4[2],\"\\n\")\n",
        "\n",
        "\n",
        "\n",
        "\n",
        "\n",
        "## x1 and x4 independent | x3=0?\n",
        "\n",
        "condptable=ptable[which(ptable$x3==\"0\"),]\n",
        "\n",
        "condptable$prob=condptable$prob/px3[2]\n",
        "\n",
        "\n",
        "\n",
        "px1=c(sum(condptable[which(condptable$x1==\"1\" ),\"prob\"]),\n",
        "\n",
        "      sum(condptable[which(condptable$x1==\"0\"   ),\"prob\"]))\n",
        "\n",
        "px4=c(sum(condptable[which(condptable$x4==\"1\"),\"prob\"]),\n",
        "\n",
        "      sum(condptable[which(condptable$x4==\"0\"),\"prob\"]))\n",
        "\n",
        "\n",
        "\n",
        "px1x4=rbind(c(sum(condptable[which(condptable$x1==\"1\" & condptable$x4==\"1\"),\"prob\"]),\n",
        "\n",
        "              sum(condptable[which(condptable$x1==\"1\" & condptable$x4==\"0\"),\"prob\"])),\n",
        "\n",
        "            c(sum(condptable[which(condptable$x1==\"0\" & condptable$x4==\"1\"),\"prob\"]),\n",
        "\n",
        "              sum(condptable[which(condptable$x1==\"0\" & condptable$x4==\"0\"),\"prob\"])))\n",
        "\n",
        "cat(\"Are x1 and x4 independent | x3=0? yes \\n\", \"px1x3[1,1]=\",px1x4[1,1], \"px1[1]*px3[1]=\",px1[1]*px4[1],\"\\n\")\n",
        "\n",
        "cat(\"px1x4[1,2]=\",px1x4[1,2], \"px1[1]*px4[1]=\",px1[1]*px4[2],\"\\n\")\n",
        "\n",
        "cat(\"px1x4[2,1]=\",px1x4[2,1], \"px1[1]*px4[1]=\",px1[2]*px4[1],\"\\n\")\n",
        "\n",
        "cat(\"px1x4[2,2]=\",px1x4[2,2], \"px1[1]*px4[1]=\",px1[2]*px4[2],\"\\n\")\n",
        "\n",
        "\n",
        "\n",
        "\n",
        "\n",
        "# P(x3=0| x1=0, x4=0)\n",
        "\n",
        "In=which(ptable$x3==\"0\"  & ptable$x4==\"0\" & ptable$x1==\"0\")\n",
        "\n",
        "Id=which(ptable$x1==\"0\" &  ptable$x4==\"0\" )\n",
        "\n",
        "\n",
        "\n",
        "sum(ptable[In,\"prob\"])/sum(ptable[Id,\"prob\"])\n",
        "\n",
        "# P(x3=0| x4=0)\n",
        "\n",
        "In=which(ptable$x3==\"0\"   & ptable$x4==\"0\")\n",
        "\n",
        "Id=which(ptable$x4==\"0\"  )\n",
        "\n",
        "sum(ptable[In,\"prob\"])/sum(ptable[Id,\"prob\"])\n",
        "\n",
        "\n",
        "\n",
        "}"
      ]
    },
    {
      "cell_type": "code",
      "source": [
        "ptable\n"
      ],
      "metadata": {
        "colab": {
          "base_uri": "https://localhost:8080/",
          "height": 600
        },
        "id": "9F7I-SjR1_GV",
        "outputId": "57cf18e4-46b0-4e3c-8a83-c1b6c88f74a1"
      },
      "execution_count": 6,
      "outputs": [
        {
          "output_type": "display_data",
          "data": {
            "text/html": [
              "<table class=\"dataframe\">\n",
              "<caption>A data.frame: 16 × 5</caption>\n",
              "<thead>\n",
              "\t<tr><th scope=col>x1</th><th scope=col>x2</th><th scope=col>x3</th><th scope=col>x4</th><th scope=col>prob</th></tr>\n",
              "\t<tr><th scope=col>&lt;fct&gt;</th><th scope=col>&lt;fct&gt;</th><th scope=col>&lt;fct&gt;</th><th scope=col>&lt;fct&gt;</th><th scope=col>&lt;dbl&gt;</th></tr>\n",
              "</thead>\n",
              "<tbody>\n",
              "\t<tr><td>0</td><td>0</td><td>0</td><td>0</td><td>0.108</td></tr>\n",
              "\t<tr><td>1</td><td>0</td><td>0</td><td>0</td><td>0.036</td></tr>\n",
              "\t<tr><td>0</td><td>1</td><td>0</td><td>0</td><td>0.048</td></tr>\n",
              "\t<tr><td>1</td><td>1</td><td>0</td><td>0</td><td>0.096</td></tr>\n",
              "\t<tr><td>0</td><td>0</td><td>1</td><td>0</td><td>0.048</td></tr>\n",
              "\t<tr><td>1</td><td>0</td><td>1</td><td>0</td><td>0.016</td></tr>\n",
              "\t<tr><td>0</td><td>1</td><td>1</td><td>0</td><td>0.048</td></tr>\n",
              "\t<tr><td>1</td><td>1</td><td>1</td><td>0</td><td>0.096</td></tr>\n",
              "\t<tr><td>0</td><td>0</td><td>0</td><td>1</td><td>0.072</td></tr>\n",
              "\t<tr><td>1</td><td>0</td><td>0</td><td>1</td><td>0.024</td></tr>\n",
              "\t<tr><td>0</td><td>1</td><td>0</td><td>1</td><td>0.032</td></tr>\n",
              "\t<tr><td>1</td><td>1</td><td>0</td><td>1</td><td>0.064</td></tr>\n",
              "\t<tr><td>0</td><td>0</td><td>1</td><td>1</td><td>0.072</td></tr>\n",
              "\t<tr><td>1</td><td>0</td><td>1</td><td>1</td><td>0.024</td></tr>\n",
              "\t<tr><td>0</td><td>1</td><td>1</td><td>1</td><td>0.072</td></tr>\n",
              "\t<tr><td>1</td><td>1</td><td>1</td><td>1</td><td>0.144</td></tr>\n",
              "</tbody>\n",
              "</table>\n"
            ],
            "text/markdown": "\nA data.frame: 16 × 5\n\n| x1 &lt;fct&gt; | x2 &lt;fct&gt; | x3 &lt;fct&gt; | x4 &lt;fct&gt; | prob &lt;dbl&gt; |\n|---|---|---|---|---|\n| 0 | 0 | 0 | 0 | 0.108 |\n| 1 | 0 | 0 | 0 | 0.036 |\n| 0 | 1 | 0 | 0 | 0.048 |\n| 1 | 1 | 0 | 0 | 0.096 |\n| 0 | 0 | 1 | 0 | 0.048 |\n| 1 | 0 | 1 | 0 | 0.016 |\n| 0 | 1 | 1 | 0 | 0.048 |\n| 1 | 1 | 1 | 0 | 0.096 |\n| 0 | 0 | 0 | 1 | 0.072 |\n| 1 | 0 | 0 | 1 | 0.024 |\n| 0 | 1 | 0 | 1 | 0.032 |\n| 1 | 1 | 0 | 1 | 0.064 |\n| 0 | 0 | 1 | 1 | 0.072 |\n| 1 | 0 | 1 | 1 | 0.024 |\n| 0 | 1 | 1 | 1 | 0.072 |\n| 1 | 1 | 1 | 1 | 0.144 |\n\n",
            "text/latex": "A data.frame: 16 × 5\n\\begin{tabular}{lllll}\n x1 & x2 & x3 & x4 & prob\\\\\n <fct> & <fct> & <fct> & <fct> & <dbl>\\\\\n\\hline\n\t 0 & 0 & 0 & 0 & 0.108\\\\\n\t 1 & 0 & 0 & 0 & 0.036\\\\\n\t 0 & 1 & 0 & 0 & 0.048\\\\\n\t 1 & 1 & 0 & 0 & 0.096\\\\\n\t 0 & 0 & 1 & 0 & 0.048\\\\\n\t 1 & 0 & 1 & 0 & 0.016\\\\\n\t 0 & 1 & 1 & 0 & 0.048\\\\\n\t 1 & 1 & 1 & 0 & 0.096\\\\\n\t 0 & 0 & 0 & 1 & 0.072\\\\\n\t 1 & 0 & 0 & 1 & 0.024\\\\\n\t 0 & 1 & 0 & 1 & 0.032\\\\\n\t 1 & 1 & 0 & 1 & 0.064\\\\\n\t 0 & 0 & 1 & 1 & 0.072\\\\\n\t 1 & 0 & 1 & 1 & 0.024\\\\\n\t 0 & 1 & 1 & 1 & 0.072\\\\\n\t 1 & 1 & 1 & 1 & 0.144\\\\\n\\end{tabular}\n",
            "text/plain": [
              "   x1 x2 x3 x4 prob \n",
              "1  0  0  0  0  0.108\n",
              "2  1  0  0  0  0.036\n",
              "3  0  1  0  0  0.048\n",
              "4  1  1  0  0  0.096\n",
              "5  0  0  1  0  0.048\n",
              "6  1  0  1  0  0.016\n",
              "7  0  1  1  0  0.048\n",
              "8  1  1  1  0  0.096\n",
              "9  0  0  0  1  0.072\n",
              "10 1  0  0  1  0.024\n",
              "11 0  1  0  1  0.032\n",
              "12 1  1  0  1  0.064\n",
              "13 0  0  1  1  0.072\n",
              "14 1  0  1  1  0.024\n",
              "15 0  1  1  1  0.072\n",
              "16 1  1  1  1  0.144"
            ]
          },
          "metadata": {}
        }
      ]
    },
    {
      "cell_type": "code",
      "source": [
        "?which"
      ],
      "metadata": {
        "id": "H4GXFYNc2SUM"
      },
      "execution_count": 7,
      "outputs": []
    },
    {
      "cell_type": "code",
      "source": [
        "In"
      ],
      "metadata": {
        "colab": {
          "base_uri": "https://localhost:8080/",
          "height": 34
        },
        "id": "9oaXLw1N2heu",
        "outputId": "e158c456-3e39-4b98-9c88-70d638bf3b66"
      },
      "execution_count": 8,
      "outputs": [
        {
          "output_type": "display_data",
          "data": {
            "text/html": [
              "<style>\n",
              ".list-inline {list-style: none; margin:0; padding: 0}\n",
              ".list-inline>li {display: inline-block}\n",
              ".list-inline>li:not(:last-child)::after {content: \"\\00b7\"; padding: 0 .5ex}\n",
              "</style>\n",
              "<ol class=list-inline><li>1</li><li>2</li><li>3</li><li>4</li></ol>\n"
            ],
            "text/markdown": "1. 1\n2. 2\n3. 3\n4. 4\n\n\n",
            "text/latex": "\\begin{enumerate*}\n\\item 1\n\\item 2\n\\item 3\n\\item 4\n\\end{enumerate*}\n",
            "text/plain": [
              "[1] 1 2 3 4"
            ]
          },
          "metadata": {}
        }
      ]
    },
    {
      "cell_type": "code",
      "source": [
        "ptable[In,\"prob\"]"
      ],
      "metadata": {
        "colab": {
          "base_uri": "https://localhost:8080/",
          "height": 34
        },
        "id": "PVMgd-w526iS",
        "outputId": "9848aa1a-24fb-4d13-ba0d-d1a66b5b5c87"
      },
      "execution_count": 14,
      "outputs": [
        {
          "output_type": "display_data",
          "data": {
            "text/html": [
              "<style>\n",
              ".list-inline {list-style: none; margin:0; padding: 0}\n",
              ".list-inline>li {display: inline-block}\n",
              ".list-inline>li:not(:last-child)::after {content: \"\\00b7\"; padding: 0 .5ex}\n",
              "</style>\n",
              "<ol class=list-inline><li>0.108</li><li>0.036</li><li>0.048</li><li>0.096</li></ol>\n"
            ],
            "text/markdown": "1. 0.108\n2. 0.036\n3. 0.048\n4. 0.096\n\n\n",
            "text/latex": "\\begin{enumerate*}\n\\item 0.108\n\\item 0.036\n\\item 0.048\n\\item 0.096\n\\end{enumerate*}\n",
            "text/plain": [
              "[1] 0.108 0.036 0.048 0.096"
            ]
          },
          "metadata": {}
        }
      ]
    },
    {
      "cell_type": "code",
      "source": [
        "In=which(ptable$x1==\"1\" )\n"
      ],
      "metadata": {
        "id": "u7BDTSOg30aT"
      },
      "execution_count": 15,
      "outputs": []
    },
    {
      "cell_type": "code",
      "source": [
        "In"
      ],
      "metadata": {
        "colab": {
          "base_uri": "https://localhost:8080/",
          "height": 34
        },
        "id": "BiQW0wV-32O9",
        "outputId": "23774022-b2a0-4117-d3fe-c11d26062c5f"
      },
      "execution_count": 16,
      "outputs": [
        {
          "output_type": "display_data",
          "data": {
            "text/html": [
              "<style>\n",
              ".list-inline {list-style: none; margin:0; padding: 0}\n",
              ".list-inline>li {display: inline-block}\n",
              ".list-inline>li:not(:last-child)::after {content: \"\\00b7\"; padding: 0 .5ex}\n",
              "</style>\n",
              "<ol class=list-inline><li>2</li><li>4</li><li>6</li><li>8</li><li>10</li><li>12</li><li>14</li><li>16</li></ol>\n"
            ],
            "text/markdown": "1. 2\n2. 4\n3. 6\n4. 8\n5. 10\n6. 12\n7. 14\n8. 16\n\n\n",
            "text/latex": "\\begin{enumerate*}\n\\item 2\n\\item 4\n\\item 6\n\\item 8\n\\item 10\n\\item 12\n\\item 14\n\\item 16\n\\end{enumerate*}\n",
            "text/plain": [
              "[1]  2  4  6  8 10 12 14 16"
            ]
          },
          "metadata": {}
        }
      ]
    },
    {
      "cell_type": "code",
      "source": [
        "sum(ptable[In,\"prob\"])"
      ],
      "metadata": {
        "colab": {
          "base_uri": "https://localhost:8080/",
          "height": 34
        },
        "id": "8EUMMNqt36qF",
        "outputId": "1ce35cc7-4c6e-42f7-c7be-01ad2bd5bd7b"
      },
      "execution_count": 17,
      "outputs": [
        {
          "output_type": "display_data",
          "data": {
            "text/html": [
              "0.5"
            ],
            "text/markdown": "0.5",
            "text/latex": "0.5",
            "text/plain": [
              "[1] 0.5"
            ]
          },
          "metadata": {}
        }
      ]
    },
    {
      "cell_type": "code",
      "source": [
        "   ptable=Q1.G3.D\n"
      ],
      "metadata": {
        "id": "xSWJINmL47MV"
      },
      "execution_count": 18,
      "outputs": []
    },
    {
      "cell_type": "code",
      "source": [
        "ptable"
      ],
      "metadata": {
        "colab": {
          "base_uri": "https://localhost:8080/",
          "height": 600
        },
        "id": "6FeCu3h_48gN",
        "outputId": "227bdd0c-6701-49cf-ff4d-2356844802cb"
      },
      "execution_count": 19,
      "outputs": [
        {
          "output_type": "display_data",
          "data": {
            "text/html": [
              "<table class=\"dataframe\">\n",
              "<caption>A data.frame: 16 × 5</caption>\n",
              "<thead>\n",
              "\t<tr><th scope=col>x1</th><th scope=col>x2</th><th scope=col>x3</th><th scope=col>x4</th><th scope=col>prob</th></tr>\n",
              "\t<tr><th scope=col>&lt;fct&gt;</th><th scope=col>&lt;fct&gt;</th><th scope=col>&lt;fct&gt;</th><th scope=col>&lt;fct&gt;</th><th scope=col>&lt;dbl&gt;</th></tr>\n",
              "</thead>\n",
              "<tbody>\n",
              "\t<tr><td>0</td><td>0</td><td>0</td><td>0</td><td>0.108</td></tr>\n",
              "\t<tr><td>1</td><td>0</td><td>0</td><td>0</td><td>0.036</td></tr>\n",
              "\t<tr><td>0</td><td>1</td><td>0</td><td>0</td><td>0.048</td></tr>\n",
              "\t<tr><td>1</td><td>1</td><td>0</td><td>0</td><td>0.096</td></tr>\n",
              "\t<tr><td>0</td><td>0</td><td>1</td><td>0</td><td>0.048</td></tr>\n",
              "\t<tr><td>1</td><td>0</td><td>1</td><td>0</td><td>0.016</td></tr>\n",
              "\t<tr><td>0</td><td>1</td><td>1</td><td>0</td><td>0.048</td></tr>\n",
              "\t<tr><td>1</td><td>1</td><td>1</td><td>0</td><td>0.096</td></tr>\n",
              "\t<tr><td>0</td><td>0</td><td>0</td><td>1</td><td>0.072</td></tr>\n",
              "\t<tr><td>1</td><td>0</td><td>0</td><td>1</td><td>0.024</td></tr>\n",
              "\t<tr><td>0</td><td>1</td><td>0</td><td>1</td><td>0.032</td></tr>\n",
              "\t<tr><td>1</td><td>1</td><td>0</td><td>1</td><td>0.064</td></tr>\n",
              "\t<tr><td>0</td><td>0</td><td>1</td><td>1</td><td>0.072</td></tr>\n",
              "\t<tr><td>1</td><td>0</td><td>1</td><td>1</td><td>0.024</td></tr>\n",
              "\t<tr><td>0</td><td>1</td><td>1</td><td>1</td><td>0.072</td></tr>\n",
              "\t<tr><td>1</td><td>1</td><td>1</td><td>1</td><td>0.144</td></tr>\n",
              "</tbody>\n",
              "</table>\n"
            ],
            "text/markdown": "\nA data.frame: 16 × 5\n\n| x1 &lt;fct&gt; | x2 &lt;fct&gt; | x3 &lt;fct&gt; | x4 &lt;fct&gt; | prob &lt;dbl&gt; |\n|---|---|---|---|---|\n| 0 | 0 | 0 | 0 | 0.108 |\n| 1 | 0 | 0 | 0 | 0.036 |\n| 0 | 1 | 0 | 0 | 0.048 |\n| 1 | 1 | 0 | 0 | 0.096 |\n| 0 | 0 | 1 | 0 | 0.048 |\n| 1 | 0 | 1 | 0 | 0.016 |\n| 0 | 1 | 1 | 0 | 0.048 |\n| 1 | 1 | 1 | 0 | 0.096 |\n| 0 | 0 | 0 | 1 | 0.072 |\n| 1 | 0 | 0 | 1 | 0.024 |\n| 0 | 1 | 0 | 1 | 0.032 |\n| 1 | 1 | 0 | 1 | 0.064 |\n| 0 | 0 | 1 | 1 | 0.072 |\n| 1 | 0 | 1 | 1 | 0.024 |\n| 0 | 1 | 1 | 1 | 0.072 |\n| 1 | 1 | 1 | 1 | 0.144 |\n\n",
            "text/latex": "A data.frame: 16 × 5\n\\begin{tabular}{lllll}\n x1 & x2 & x3 & x4 & prob\\\\\n <fct> & <fct> & <fct> & <fct> & <dbl>\\\\\n\\hline\n\t 0 & 0 & 0 & 0 & 0.108\\\\\n\t 1 & 0 & 0 & 0 & 0.036\\\\\n\t 0 & 1 & 0 & 0 & 0.048\\\\\n\t 1 & 1 & 0 & 0 & 0.096\\\\\n\t 0 & 0 & 1 & 0 & 0.048\\\\\n\t 1 & 0 & 1 & 0 & 0.016\\\\\n\t 0 & 1 & 1 & 0 & 0.048\\\\\n\t 1 & 1 & 1 & 0 & 0.096\\\\\n\t 0 & 0 & 0 & 1 & 0.072\\\\\n\t 1 & 0 & 0 & 1 & 0.024\\\\\n\t 0 & 1 & 0 & 1 & 0.032\\\\\n\t 1 & 1 & 0 & 1 & 0.064\\\\\n\t 0 & 0 & 1 & 1 & 0.072\\\\\n\t 1 & 0 & 1 & 1 & 0.024\\\\\n\t 0 & 1 & 1 & 1 & 0.072\\\\\n\t 1 & 1 & 1 & 1 & 0.144\\\\\n\\end{tabular}\n",
            "text/plain": [
              "   x1 x2 x3 x4 prob \n",
              "1  0  0  0  0  0.108\n",
              "2  1  0  0  0  0.036\n",
              "3  0  1  0  0  0.048\n",
              "4  1  1  0  0  0.096\n",
              "5  0  0  1  0  0.048\n",
              "6  1  0  1  0  0.016\n",
              "7  0  1  1  0  0.048\n",
              "8  1  1  1  0  0.096\n",
              "9  0  0  0  1  0.072\n",
              "10 1  0  0  1  0.024\n",
              "11 0  1  0  1  0.032\n",
              "12 1  1  0  1  0.064\n",
              "13 0  0  1  1  0.072\n",
              "14 1  0  1  1  0.024\n",
              "15 0  1  1  1  0.072\n",
              "16 1  1  1  1  0.144"
            ]
          },
          "metadata": {}
        }
      ]
    },
    {
      "cell_type": "code",
      "source": [
        "In = which(ptable$x1 == \"0\")"
      ],
      "metadata": {
        "id": "wcB0A7v74-jJ"
      },
      "execution_count": 30,
      "outputs": []
    },
    {
      "cell_type": "code",
      "source": [
        "In"
      ],
      "metadata": {
        "colab": {
          "base_uri": "https://localhost:8080/",
          "height": 34
        },
        "id": "bjY5ABxy5cSP",
        "outputId": "012092d2-5c44-4956-8036-86c5481053f4"
      },
      "execution_count": 31,
      "outputs": [
        {
          "output_type": "display_data",
          "data": {
            "text/html": [
              "<style>\n",
              ".list-inline {list-style: none; margin:0; padding: 0}\n",
              ".list-inline>li {display: inline-block}\n",
              ".list-inline>li:not(:last-child)::after {content: \"\\00b7\"; padding: 0 .5ex}\n",
              "</style>\n",
              "<ol class=list-inline><li>1</li><li>3</li><li>5</li><li>7</li><li>9</li><li>11</li><li>13</li><li>15</li></ol>\n"
            ],
            "text/markdown": "1. 1\n2. 3\n3. 5\n4. 7\n5. 9\n6. 11\n7. 13\n8. 15\n\n\n",
            "text/latex": "\\begin{enumerate*}\n\\item 1\n\\item 3\n\\item 5\n\\item 7\n\\item 9\n\\item 11\n\\item 13\n\\item 15\n\\end{enumerate*}\n",
            "text/plain": [
              "[1]  1  3  5  7  9 11 13 15"
            ]
          },
          "metadata": {}
        }
      ]
    },
    {
      "cell_type": "code",
      "source": [
        "sum(ptable[In,\"prob\"])"
      ],
      "metadata": {
        "colab": {
          "base_uri": "https://localhost:8080/",
          "height": 34
        },
        "id": "F2bffNgq5J7E",
        "outputId": "8b7c9d76-6a64-4292-c95c-9fd9eac2b64f"
      },
      "execution_count": 32,
      "outputs": [
        {
          "output_type": "display_data",
          "data": {
            "text/html": [
              "0.5"
            ],
            "text/markdown": "0.5",
            "text/latex": "0.5",
            "text/plain": [
              "[1] 0.5"
            ]
          },
          "metadata": {}
        }
      ]
    },
    {
      "cell_type": "code",
      "source": [
        "In = which(ptable$x1 == \"1\" & ptable$x2 == \"1\")"
      ],
      "metadata": {
        "id": "jMdcPU0657T9"
      },
      "execution_count": 45,
      "outputs": []
    },
    {
      "cell_type": "code",
      "source": [
        "In"
      ],
      "metadata": {
        "colab": {
          "base_uri": "https://localhost:8080/",
          "height": 34
        },
        "id": "f_xvHNqX6Abw",
        "outputId": "69b9cbd0-dbca-4706-82fb-314a4aad1fed"
      },
      "execution_count": 43,
      "outputs": [
        {
          "output_type": "display_data",
          "data": {
            "text/html": [
              "<style>\n",
              ".list-inline {list-style: none; margin:0; padding: 0}\n",
              ".list-inline>li {display: inline-block}\n",
              ".list-inline>li:not(:last-child)::after {content: \"\\00b7\"; padding: 0 .5ex}\n",
              "</style>\n",
              "<ol class=list-inline><li>4</li><li>8</li><li>12</li><li>16</li></ol>\n"
            ],
            "text/markdown": "1. 4\n2. 8\n3. 12\n4. 16\n\n\n",
            "text/latex": "\\begin{enumerate*}\n\\item 4\n\\item 8\n\\item 12\n\\item 16\n\\end{enumerate*}\n",
            "text/plain": [
              "[1]  4  8 12 16"
            ]
          },
          "metadata": {}
        }
      ]
    },
    {
      "cell_type": "code",
      "source": [
        "sum(ptable[In,\"prob\"])"
      ],
      "metadata": {
        "colab": {
          "base_uri": "https://localhost:8080/",
          "height": 34
        },
        "id": "INg96ssy6C3g",
        "outputId": "21a5861c-2d25-44c7-992c-7a73dc477d68"
      },
      "execution_count": 38,
      "outputs": [
        {
          "output_type": "display_data",
          "data": {
            "text/html": [
              "0.5"
            ],
            "text/markdown": "0.5",
            "text/latex": "0.5",
            "text/plain": [
              "[1] 0.5"
            ]
          },
          "metadata": {}
        }
      ]
    },
    {
      "cell_type": "code",
      "source": [
        "Id = which(ptable$x2 == \"1\")"
      ],
      "metadata": {
        "id": "NkJPlkm76rMj"
      },
      "execution_count": 44,
      "outputs": []
    },
    {
      "cell_type": "code",
      "source": [
        "Id"
      ],
      "metadata": {
        "colab": {
          "base_uri": "https://localhost:8080/",
          "height": 34
        },
        "id": "1tehxAt06yyx",
        "outputId": "cc737002-83b6-4b46-ad99-46c996d633d0"
      },
      "execution_count": 40,
      "outputs": [
        {
          "output_type": "display_data",
          "data": {
            "text/html": [
              "<style>\n",
              ".list-inline {list-style: none; margin:0; padding: 0}\n",
              ".list-inline>li {display: inline-block}\n",
              ".list-inline>li:not(:last-child)::after {content: \"\\00b7\"; padding: 0 .5ex}\n",
              "</style>\n",
              "<ol class=list-inline><li>3</li><li>4</li><li>7</li><li>8</li><li>11</li><li>12</li><li>15</li><li>16</li></ol>\n"
            ],
            "text/markdown": "1. 3\n2. 4\n3. 7\n4. 8\n5. 11\n6. 12\n7. 15\n8. 16\n\n\n",
            "text/latex": "\\begin{enumerate*}\n\\item 3\n\\item 4\n\\item 7\n\\item 8\n\\item 11\n\\item 12\n\\item 15\n\\item 16\n\\end{enumerate*}\n",
            "text/plain": [
              "[1]  3  4  7  8 11 12 15 16"
            ]
          },
          "metadata": {}
        }
      ]
    },
    {
      "cell_type": "code",
      "source": [
        "sum(ptable[In,\"prob\"])/ sum(ptable[Id,\"prob\"])"
      ],
      "metadata": {
        "colab": {
          "base_uri": "https://localhost:8080/",
          "height": 34
        },
        "id": "H0U6Xp5g60wJ",
        "outputId": "a4b5ac7d-4330-4f11-da06-5eae4a7c39b5"
      },
      "execution_count": 46,
      "outputs": [
        {
          "output_type": "display_data",
          "data": {
            "text/html": [
              "0.666666666666667"
            ],
            "text/markdown": "0.666666666666667",
            "text/latex": "0.666666666666667",
            "text/plain": [
              "[1] 0.6666667"
            ]
          },
          "metadata": {}
        }
      ]
    },
    {
      "cell_type": "code",
      "source": [
        "condptable=ptable[which(ptable$x3==\"0\"),]\n"
      ],
      "metadata": {
        "id": "ej7JoYu2BLvH"
      },
      "execution_count": 50,
      "outputs": []
    },
    {
      "cell_type": "code",
      "source": [
        "condptable"
      ],
      "metadata": {
        "colab": {
          "base_uri": "https://localhost:8080/",
          "height": 349
        },
        "id": "qU3XjNbNBMji",
        "outputId": "bf23f2d1-1ca5-49fd-e6d3-12627d7ed97c"
      },
      "execution_count": 51,
      "outputs": [
        {
          "output_type": "display_data",
          "data": {
            "text/html": [
              "<table class=\"dataframe\">\n",
              "<caption>A data.frame: 8 × 5</caption>\n",
              "<thead>\n",
              "\t<tr><th></th><th scope=col>x1</th><th scope=col>x2</th><th scope=col>x3</th><th scope=col>x4</th><th scope=col>prob</th></tr>\n",
              "\t<tr><th></th><th scope=col>&lt;fct&gt;</th><th scope=col>&lt;fct&gt;</th><th scope=col>&lt;fct&gt;</th><th scope=col>&lt;fct&gt;</th><th scope=col>&lt;dbl&gt;</th></tr>\n",
              "</thead>\n",
              "<tbody>\n",
              "\t<tr><th scope=row>1</th><td>0</td><td>0</td><td>0</td><td>0</td><td>0.108</td></tr>\n",
              "\t<tr><th scope=row>2</th><td>1</td><td>0</td><td>0</td><td>0</td><td>0.036</td></tr>\n",
              "\t<tr><th scope=row>3</th><td>0</td><td>1</td><td>0</td><td>0</td><td>0.048</td></tr>\n",
              "\t<tr><th scope=row>4</th><td>1</td><td>1</td><td>0</td><td>0</td><td>0.096</td></tr>\n",
              "\t<tr><th scope=row>9</th><td>0</td><td>0</td><td>0</td><td>1</td><td>0.072</td></tr>\n",
              "\t<tr><th scope=row>10</th><td>1</td><td>0</td><td>0</td><td>1</td><td>0.024</td></tr>\n",
              "\t<tr><th scope=row>11</th><td>0</td><td>1</td><td>0</td><td>1</td><td>0.032</td></tr>\n",
              "\t<tr><th scope=row>12</th><td>1</td><td>1</td><td>0</td><td>1</td><td>0.064</td></tr>\n",
              "</tbody>\n",
              "</table>\n"
            ],
            "text/markdown": "\nA data.frame: 8 × 5\n\n| <!--/--> | x1 &lt;fct&gt; | x2 &lt;fct&gt; | x3 &lt;fct&gt; | x4 &lt;fct&gt; | prob &lt;dbl&gt; |\n|---|---|---|---|---|---|\n| 1 | 0 | 0 | 0 | 0 | 0.108 |\n| 2 | 1 | 0 | 0 | 0 | 0.036 |\n| 3 | 0 | 1 | 0 | 0 | 0.048 |\n| 4 | 1 | 1 | 0 | 0 | 0.096 |\n| 9 | 0 | 0 | 0 | 1 | 0.072 |\n| 10 | 1 | 0 | 0 | 1 | 0.024 |\n| 11 | 0 | 1 | 0 | 1 | 0.032 |\n| 12 | 1 | 1 | 0 | 1 | 0.064 |\n\n",
            "text/latex": "A data.frame: 8 × 5\n\\begin{tabular}{r|lllll}\n  & x1 & x2 & x3 & x4 & prob\\\\\n  & <fct> & <fct> & <fct> & <fct> & <dbl>\\\\\n\\hline\n\t1 & 0 & 0 & 0 & 0 & 0.108\\\\\n\t2 & 1 & 0 & 0 & 0 & 0.036\\\\\n\t3 & 0 & 1 & 0 & 0 & 0.048\\\\\n\t4 & 1 & 1 & 0 & 0 & 0.096\\\\\n\t9 & 0 & 0 & 0 & 1 & 0.072\\\\\n\t10 & 1 & 0 & 0 & 1 & 0.024\\\\\n\t11 & 0 & 1 & 0 & 1 & 0.032\\\\\n\t12 & 1 & 1 & 0 & 1 & 0.064\\\\\n\\end{tabular}\n",
            "text/plain": [
              "   x1 x2 x3 x4 prob \n",
              "1  0  0  0  0  0.108\n",
              "2  1  0  0  0  0.036\n",
              "3  0  1  0  0  0.048\n",
              "4  1  1  0  0  0.096\n",
              "9  0  0  0  1  0.072\n",
              "10 1  0  0  1  0.024\n",
              "11 0  1  0  1  0.032\n",
              "12 1  1  0  1  0.064"
            ]
          },
          "metadata": {}
        }
      ]
    },
    {
      "cell_type": "code",
      "source": [
        "condptable$prob"
      ],
      "metadata": {
        "colab": {
          "base_uri": "https://localhost:8080/",
          "height": 34
        },
        "id": "8GgsymkpBnzC",
        "outputId": "64a2389e-2019-4e87-9c40-0ba5580a9afd"
      },
      "execution_count": 52,
      "outputs": [
        {
          "output_type": "display_data",
          "data": {
            "text/html": [
              "<style>\n",
              ".list-inline {list-style: none; margin:0; padding: 0}\n",
              ".list-inline>li {display: inline-block}\n",
              ".list-inline>li:not(:last-child)::after {content: \"\\00b7\"; padding: 0 .5ex}\n",
              "</style>\n",
              "<ol class=list-inline><li>0.108</li><li>0.036</li><li>0.048</li><li>0.096</li><li>0.072</li><li>0.024</li><li>0.032</li><li>0.064</li></ol>\n"
            ],
            "text/markdown": "1. 0.108\n2. 0.036\n3. 0.048\n4. 0.096\n5. 0.072\n6. 0.024\n7. 0.032\n8. 0.064\n\n\n",
            "text/latex": "\\begin{enumerate*}\n\\item 0.108\n\\item 0.036\n\\item 0.048\n\\item 0.096\n\\item 0.072\n\\item 0.024\n\\item 0.032\n\\item 0.064\n\\end{enumerate*}\n",
            "text/plain": [
              "[1] 0.108 0.036 0.048 0.096 0.072 0.024 0.032 0.064"
            ]
          },
          "metadata": {}
        }
      ]
    },
    {
      "cell_type": "code",
      "source": [
        "px3=c(sum(ptable[which(ptable$x3==\"1\"),\"prob\"]),\n",
        "\n",
        "      sum(ptable[which(ptable$x3==\"0\"),\"prob\"]))\n"
      ],
      "metadata": {
        "id": "Oado8vfrCBDO"
      },
      "execution_count": 53,
      "outputs": []
    },
    {
      "cell_type": "code",
      "source": [
        "px3"
      ],
      "metadata": {
        "colab": {
          "base_uri": "https://localhost:8080/",
          "height": 34
        },
        "id": "-VAcssNICLOr",
        "outputId": "27f73c4d-a7e3-4244-8e2b-c7b4ab8a4f7e"
      },
      "execution_count": 54,
      "outputs": [
        {
          "output_type": "display_data",
          "data": {
            "text/html": [
              "<style>\n",
              ".list-inline {list-style: none; margin:0; padding: 0}\n",
              ".list-inline>li {display: inline-block}\n",
              ".list-inline>li:not(:last-child)::after {content: \"\\00b7\"; padding: 0 .5ex}\n",
              "</style>\n",
              "<ol class=list-inline><li>0.52</li><li>0.48</li></ol>\n"
            ],
            "text/markdown": "1. 0.52\n2. 0.48\n\n\n",
            "text/latex": "\\begin{enumerate*}\n\\item 0.52\n\\item 0.48\n\\end{enumerate*}\n",
            "text/plain": [
              "[1] 0.52 0.48"
            ]
          },
          "metadata": {}
        }
      ]
    },
    {
      "cell_type": "code",
      "source": [
        "condptable$prob=condptable$prob/px3[2]\n"
      ],
      "metadata": {
        "id": "HzeTNSYTB8wW"
      },
      "execution_count": 55,
      "outputs": []
    },
    {
      "cell_type": "code",
      "source": [
        "sum(condptable$prob)"
      ],
      "metadata": {
        "colab": {
          "base_uri": "https://localhost:8080/",
          "height": 34
        },
        "id": "UCeXZTPyCR3d",
        "outputId": "e54bb921-7916-4567-af89-fe294da1da2a"
      },
      "execution_count": 57,
      "outputs": [
        {
          "output_type": "display_data",
          "data": {
            "text/html": [
              "1"
            ],
            "text/markdown": "1",
            "text/latex": "1",
            "text/plain": [
              "[1] 1"
            ]
          },
          "metadata": {}
        }
      ]
    },
    {
      "cell_type": "code",
      "source": [
        "condptable"
      ],
      "metadata": {
        "colab": {
          "base_uri": "https://localhost:8080/",
          "height": 349
        },
        "id": "nD1hUSxFC3cV",
        "outputId": "1fc8e12f-6df2-4633-fde4-bae04f9c627d"
      },
      "execution_count": 58,
      "outputs": [
        {
          "output_type": "display_data",
          "data": {
            "text/html": [
              "<table class=\"dataframe\">\n",
              "<caption>A data.frame: 8 × 5</caption>\n",
              "<thead>\n",
              "\t<tr><th></th><th scope=col>x1</th><th scope=col>x2</th><th scope=col>x3</th><th scope=col>x4</th><th scope=col>prob</th></tr>\n",
              "\t<tr><th></th><th scope=col>&lt;fct&gt;</th><th scope=col>&lt;fct&gt;</th><th scope=col>&lt;fct&gt;</th><th scope=col>&lt;fct&gt;</th><th scope=col>&lt;dbl&gt;</th></tr>\n",
              "</thead>\n",
              "<tbody>\n",
              "\t<tr><th scope=row>1</th><td>0</td><td>0</td><td>0</td><td>0</td><td>0.22500000</td></tr>\n",
              "\t<tr><th scope=row>2</th><td>1</td><td>0</td><td>0</td><td>0</td><td>0.07500000</td></tr>\n",
              "\t<tr><th scope=row>3</th><td>0</td><td>1</td><td>0</td><td>0</td><td>0.10000000</td></tr>\n",
              "\t<tr><th scope=row>4</th><td>1</td><td>1</td><td>0</td><td>0</td><td>0.20000000</td></tr>\n",
              "\t<tr><th scope=row>9</th><td>0</td><td>0</td><td>0</td><td>1</td><td>0.15000000</td></tr>\n",
              "\t<tr><th scope=row>10</th><td>1</td><td>0</td><td>0</td><td>1</td><td>0.05000000</td></tr>\n",
              "\t<tr><th scope=row>11</th><td>0</td><td>1</td><td>0</td><td>1</td><td>0.06666667</td></tr>\n",
              "\t<tr><th scope=row>12</th><td>1</td><td>1</td><td>0</td><td>1</td><td>0.13333333</td></tr>\n",
              "</tbody>\n",
              "</table>\n"
            ],
            "text/markdown": "\nA data.frame: 8 × 5\n\n| <!--/--> | x1 &lt;fct&gt; | x2 &lt;fct&gt; | x3 &lt;fct&gt; | x4 &lt;fct&gt; | prob &lt;dbl&gt; |\n|---|---|---|---|---|---|\n| 1 | 0 | 0 | 0 | 0 | 0.22500000 |\n| 2 | 1 | 0 | 0 | 0 | 0.07500000 |\n| 3 | 0 | 1 | 0 | 0 | 0.10000000 |\n| 4 | 1 | 1 | 0 | 0 | 0.20000000 |\n| 9 | 0 | 0 | 0 | 1 | 0.15000000 |\n| 10 | 1 | 0 | 0 | 1 | 0.05000000 |\n| 11 | 0 | 1 | 0 | 1 | 0.06666667 |\n| 12 | 1 | 1 | 0 | 1 | 0.13333333 |\n\n",
            "text/latex": "A data.frame: 8 × 5\n\\begin{tabular}{r|lllll}\n  & x1 & x2 & x3 & x4 & prob\\\\\n  & <fct> & <fct> & <fct> & <fct> & <dbl>\\\\\n\\hline\n\t1 & 0 & 0 & 0 & 0 & 0.22500000\\\\\n\t2 & 1 & 0 & 0 & 0 & 0.07500000\\\\\n\t3 & 0 & 1 & 0 & 0 & 0.10000000\\\\\n\t4 & 1 & 1 & 0 & 0 & 0.20000000\\\\\n\t9 & 0 & 0 & 0 & 1 & 0.15000000\\\\\n\t10 & 1 & 0 & 0 & 1 & 0.05000000\\\\\n\t11 & 0 & 1 & 0 & 1 & 0.06666667\\\\\n\t12 & 1 & 1 & 0 & 1 & 0.13333333\\\\\n\\end{tabular}\n",
            "text/plain": [
              "   x1 x2 x3 x4 prob      \n",
              "1  0  0  0  0  0.22500000\n",
              "2  1  0  0  0  0.07500000\n",
              "3  0  1  0  0  0.10000000\n",
              "4  1  1  0  0  0.20000000\n",
              "9  0  0  0  1  0.15000000\n",
              "10 1  0  0  1  0.05000000\n",
              "11 0  1  0  1  0.06666667\n",
              "12 1  1  0  1  0.13333333"
            ]
          },
          "metadata": {}
        }
      ]
    },
    {
      "cell_type": "code",
      "source": [
        "px1=c(sum(condptable[which(condptable$x1==\"1\" ),\"prob\"]),\n",
        "\n",
        "      sum(condptable[which(condptable$x1==\"0\"   ),\"prob\"]))\n",
        "\n",
        "px4=c(sum(condptable[which(condptable$x4==\"1\"),\"prob\"]),\n",
        "\n",
        "      sum(condptable[which(condptable$x4==\"0\"),\"prob\"]))"
      ],
      "metadata": {
        "id": "zcKAZxqvC2W8"
      },
      "execution_count": 59,
      "outputs": []
    },
    {
      "cell_type": "code",
      "source": [
        "px1x4=rbind(c(sum(condptable[which(condptable$x1==\"1\" & condptable$x4==\"1\"),\"prob\"]),\n",
        "\n",
        "              sum(condptable[which(condptable$x1==\"1\" & condptable$x4==\"0\"),\"prob\"])),\n",
        "\n",
        "            c(sum(condptable[which(condptable$x1==\"0\" & condptable$x4==\"1\"),\"prob\"]),\n",
        "\n",
        "              sum(condptable[which(condptable$x1==\"0\" & condptable$x4==\"0\"),\"prob\"])))\n",
        "\n",
        "cat(\"Are x1 and x4 independent | x3=0? yes \\n\", \"px1x3[1,1]=\",px1x4[1,1], \"px1[1]*px3[1]=\",px1[1]*px4[1],\"\\n\")\n",
        "\n",
        "cat(\"px1x4[1,2]=\",px1x4[1,2], \"px1[1]*px4[1]=\",px1[1]*px4[2],\"\\n\")\n",
        "\n",
        "cat(\"px1x4[2,1]=\",px1x4[2,1], \"px1[1]*px4[1]=\",px1[2]*px4[1],\"\\n\")\n",
        "\n",
        "cat(\"px1x4[2,2]=\",px1x4[2,2], \"px1[1]*px4[1]=\",px1[2]*px4[2],\"\\n\")"
      ],
      "metadata": {
        "colab": {
          "base_uri": "https://localhost:8080/"
        },
        "id": "HklJisXMDVfn",
        "outputId": "ff72ee9c-af60-41f6-87e1-b8d6567d2280"
      },
      "execution_count": 60,
      "outputs": [
        {
          "output_type": "stream",
          "name": "stdout",
          "text": [
            "Are x1 and x4 independent | x3=0? yes \n",
            " px1x3[1,1]= 0.1833333 px1[1]*px3[1]= 0.1833333 \n",
            "px1x4[1,2]= 0.275 px1[1]*px4[1]= 0.275 \n",
            "px1x4[2,1]= 0.2166667 px1[1]*px4[1]= 0.2166667 \n",
            "px1x4[2,2]= 0.325 px1[1]*px4[1]= 0.325 \n"
          ]
        }
      ]
    },
    {
      "cell_type": "code",
      "source": [
        "px1x4"
      ],
      "metadata": {
        "colab": {
          "base_uri": "https://localhost:8080/",
          "height": 114
        },
        "id": "acFaBLq0DYWe",
        "outputId": "5b0df4f4-e470-4679-8d48-caefb92a67f8"
      },
      "execution_count": 61,
      "outputs": [
        {
          "output_type": "display_data",
          "data": {
            "text/html": [
              "<table class=\"dataframe\">\n",
              "<caption>A matrix: 2 × 2 of type dbl</caption>\n",
              "<tbody>\n",
              "\t<tr><td>0.1833333</td><td>0.275</td></tr>\n",
              "\t<tr><td>0.2166667</td><td>0.325</td></tr>\n",
              "</tbody>\n",
              "</table>\n"
            ],
            "text/markdown": "\nA matrix: 2 × 2 of type dbl\n\n| 0.1833333 | 0.275 |\n| 0.2166667 | 0.325 |\n\n",
            "text/latex": "A matrix: 2 × 2 of type dbl\n\\begin{tabular}{ll}\n\t 0.1833333 & 0.275\\\\\n\t 0.2166667 & 0.325\\\\\n\\end{tabular}\n",
            "text/plain": [
              "     [,1]      [,2] \n",
              "[1,] 0.1833333 0.275\n",
              "[2,] 0.2166667 0.325"
            ]
          },
          "metadata": {}
        }
      ]
    },
    {
      "cell_type": "code",
      "source": [
        "px1[1]*px4[2]"
      ],
      "metadata": {
        "colab": {
          "base_uri": "https://localhost:8080/",
          "height": 34
        },
        "id": "RTQfh599DfuZ",
        "outputId": "a89ff0a2-e1eb-496d-864e-65155ddb0f56"
      },
      "execution_count": 64,
      "outputs": [
        {
          "output_type": "display_data",
          "data": {
            "text/html": [
              "0.275"
            ],
            "text/markdown": "0.275",
            "text/latex": "0.275",
            "text/plain": [
              "[1] 0.275"
            ]
          },
          "metadata": {}
        }
      ]
    }
  ]
}